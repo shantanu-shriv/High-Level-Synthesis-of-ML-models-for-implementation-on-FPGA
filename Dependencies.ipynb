{
 "cells": [
  {
   "cell_type": "markdown",
   "id": "3dfe54cc-eac8-4ea0-a145-5f1483bf2654",
   "metadata": {},
   "source": [
    "Tensorflow: 2.13.1\n",
    "\n",
    "import tensorflow as tf\n",
    "print(tf.__version__)\n",
    "\n",
    "To change  version: pip install tensorflow==2.13.1\n",
    "\n",
    "Keras: 2.13.1\n",
    "import keras\n",
    "print(keras.__version__)\n",
    "\n",
    "To change version: pip install keras==2.13.1\n",
    "\n",
    "Python: 3.10.12\n",
    "\n",
    "python3  -- version"
   ]
  }
 ],
 "metadata": {
  "kernelspec": {
   "display_name": "Python 3 (ipykernel)",
   "language": "python",
   "name": "python3"
  },
  "language_info": {
   "codemirror_mode": {
    "name": "ipython",
    "version": 3
   },
   "file_extension": ".py",
   "mimetype": "text/x-python",
   "name": "python",
   "nbconvert_exporter": "python",
   "pygments_lexer": "ipython3",
   "version": "3.10.12"
  }
 },
 "nbformat": 4,
 "nbformat_minor": 5
}
